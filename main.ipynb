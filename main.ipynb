{
 "cells": [
  {
   "cell_type": "code",
   "execution_count": 1,
   "metadata": {},
   "outputs": [],
   "source": [
    "import pandas as pd"
   ]
  },
  {
   "cell_type": "code",
   "execution_count": 2,
   "metadata": {},
   "outputs": [],
   "source": [
    "dados = pd.read_csv('dados/df_vinho.csv')"
   ]
  },
  {
   "cell_type": "code",
   "execution_count": 3,
   "metadata": {},
   "outputs": [
    {
     "data": {
      "text/html": [
       "<div>\n",
       "<style scoped>\n",
       "    .dataframe tbody tr th:only-of-type {\n",
       "        vertical-align: middle;\n",
       "    }\n",
       "\n",
       "    .dataframe tbody tr th {\n",
       "        vertical-align: top;\n",
       "    }\n",
       "\n",
       "    .dataframe thead th {\n",
       "        text-align: right;\n",
       "    }\n",
       "</style>\n",
       "<table border=\"1\" class=\"dataframe\">\n",
       "  <thead>\n",
       "    <tr style=\"text-align: right;\">\n",
       "      <th></th>\n",
       "      <th>acidez fixa</th>\n",
       "      <th>acidez volátil</th>\n",
       "      <th>ácido cítrico</th>\n",
       "      <th>açúcar residual</th>\n",
       "      <th>cloretos</th>\n",
       "      <th>dióxido de enxofre livre</th>\n",
       "      <th>dióxido de enxofre total</th>\n",
       "      <th>densidade</th>\n",
       "      <th>pH</th>\n",
       "      <th>sulfatos</th>\n",
       "      <th>álcool</th>\n",
       "      <th>qualidade</th>\n",
       "    </tr>\n",
       "  </thead>\n",
       "  <tbody>\n",
       "    <tr>\n",
       "      <th>0</th>\n",
       "      <td>7.4</td>\n",
       "      <td>0.700</td>\n",
       "      <td>0.00</td>\n",
       "      <td>1.9</td>\n",
       "      <td>0.076</td>\n",
       "      <td>11.0</td>\n",
       "      <td>34.0</td>\n",
       "      <td>0.99780</td>\n",
       "      <td>3.51</td>\n",
       "      <td>0.56</td>\n",
       "      <td>9.4</td>\n",
       "      <td>mediano</td>\n",
       "    </tr>\n",
       "    <tr>\n",
       "      <th>1</th>\n",
       "      <td>7.8</td>\n",
       "      <td>0.880</td>\n",
       "      <td>0.00</td>\n",
       "      <td>2.6</td>\n",
       "      <td>0.098</td>\n",
       "      <td>25.0</td>\n",
       "      <td>67.0</td>\n",
       "      <td>0.99680</td>\n",
       "      <td>3.20</td>\n",
       "      <td>0.68</td>\n",
       "      <td>9.8</td>\n",
       "      <td>mediano</td>\n",
       "    </tr>\n",
       "    <tr>\n",
       "      <th>2</th>\n",
       "      <td>7.8</td>\n",
       "      <td>0.760</td>\n",
       "      <td>0.04</td>\n",
       "      <td>2.3</td>\n",
       "      <td>0.092</td>\n",
       "      <td>15.0</td>\n",
       "      <td>54.0</td>\n",
       "      <td>0.99700</td>\n",
       "      <td>3.26</td>\n",
       "      <td>0.65</td>\n",
       "      <td>9.8</td>\n",
       "      <td>mediano</td>\n",
       "    </tr>\n",
       "    <tr>\n",
       "      <th>3</th>\n",
       "      <td>11.2</td>\n",
       "      <td>0.280</td>\n",
       "      <td>0.56</td>\n",
       "      <td>1.9</td>\n",
       "      <td>0.075</td>\n",
       "      <td>17.0</td>\n",
       "      <td>60.0</td>\n",
       "      <td>0.99800</td>\n",
       "      <td>3.16</td>\n",
       "      <td>0.58</td>\n",
       "      <td>9.8</td>\n",
       "      <td>mediano</td>\n",
       "    </tr>\n",
       "    <tr>\n",
       "      <th>4</th>\n",
       "      <td>7.4</td>\n",
       "      <td>0.660</td>\n",
       "      <td>0.00</td>\n",
       "      <td>1.8</td>\n",
       "      <td>0.075</td>\n",
       "      <td>13.0</td>\n",
       "      <td>40.0</td>\n",
       "      <td>0.99780</td>\n",
       "      <td>3.51</td>\n",
       "      <td>0.56</td>\n",
       "      <td>9.4</td>\n",
       "      <td>mediano</td>\n",
       "    </tr>\n",
       "    <tr>\n",
       "      <th>...</th>\n",
       "      <td>...</td>\n",
       "      <td>...</td>\n",
       "      <td>...</td>\n",
       "      <td>...</td>\n",
       "      <td>...</td>\n",
       "      <td>...</td>\n",
       "      <td>...</td>\n",
       "      <td>...</td>\n",
       "      <td>...</td>\n",
       "      <td>...</td>\n",
       "      <td>...</td>\n",
       "      <td>...</td>\n",
       "    </tr>\n",
       "    <tr>\n",
       "      <th>1354</th>\n",
       "      <td>6.8</td>\n",
       "      <td>0.620</td>\n",
       "      <td>0.08</td>\n",
       "      <td>1.9</td>\n",
       "      <td>0.068</td>\n",
       "      <td>28.0</td>\n",
       "      <td>38.0</td>\n",
       "      <td>0.99651</td>\n",
       "      <td>3.42</td>\n",
       "      <td>0.82</td>\n",
       "      <td>9.5</td>\n",
       "      <td>mediano</td>\n",
       "    </tr>\n",
       "    <tr>\n",
       "      <th>1355</th>\n",
       "      <td>6.2</td>\n",
       "      <td>0.600</td>\n",
       "      <td>0.08</td>\n",
       "      <td>2.0</td>\n",
       "      <td>0.090</td>\n",
       "      <td>32.0</td>\n",
       "      <td>44.0</td>\n",
       "      <td>0.99490</td>\n",
       "      <td>3.45</td>\n",
       "      <td>0.58</td>\n",
       "      <td>10.5</td>\n",
       "      <td>mediano</td>\n",
       "    </tr>\n",
       "    <tr>\n",
       "      <th>1356</th>\n",
       "      <td>5.9</td>\n",
       "      <td>0.550</td>\n",
       "      <td>0.10</td>\n",
       "      <td>2.2</td>\n",
       "      <td>0.062</td>\n",
       "      <td>39.0</td>\n",
       "      <td>51.0</td>\n",
       "      <td>0.99512</td>\n",
       "      <td>3.52</td>\n",
       "      <td>0.76</td>\n",
       "      <td>11.2</td>\n",
       "      <td>mediano</td>\n",
       "    </tr>\n",
       "    <tr>\n",
       "      <th>1357</th>\n",
       "      <td>5.9</td>\n",
       "      <td>0.645</td>\n",
       "      <td>0.12</td>\n",
       "      <td>2.0</td>\n",
       "      <td>0.075</td>\n",
       "      <td>32.0</td>\n",
       "      <td>44.0</td>\n",
       "      <td>0.99547</td>\n",
       "      <td>3.57</td>\n",
       "      <td>0.71</td>\n",
       "      <td>10.2</td>\n",
       "      <td>mediano</td>\n",
       "    </tr>\n",
       "    <tr>\n",
       "      <th>1358</th>\n",
       "      <td>6.0</td>\n",
       "      <td>0.310</td>\n",
       "      <td>0.47</td>\n",
       "      <td>3.6</td>\n",
       "      <td>0.067</td>\n",
       "      <td>18.0</td>\n",
       "      <td>42.0</td>\n",
       "      <td>0.99549</td>\n",
       "      <td>3.39</td>\n",
       "      <td>0.66</td>\n",
       "      <td>11.0</td>\n",
       "      <td>mediano</td>\n",
       "    </tr>\n",
       "  </tbody>\n",
       "</table>\n",
       "<p>1359 rows × 12 columns</p>\n",
       "</div>"
      ],
      "text/plain": [
       "      acidez fixa  acidez volátil  ácido cítrico  açúcar residual  cloretos  \\\n",
       "0             7.4           0.700           0.00              1.9     0.076   \n",
       "1             7.8           0.880           0.00              2.6     0.098   \n",
       "2             7.8           0.760           0.04              2.3     0.092   \n",
       "3            11.2           0.280           0.56              1.9     0.075   \n",
       "4             7.4           0.660           0.00              1.8     0.075   \n",
       "...           ...             ...            ...              ...       ...   \n",
       "1354          6.8           0.620           0.08              1.9     0.068   \n",
       "1355          6.2           0.600           0.08              2.0     0.090   \n",
       "1356          5.9           0.550           0.10              2.2     0.062   \n",
       "1357          5.9           0.645           0.12              2.0     0.075   \n",
       "1358          6.0           0.310           0.47              3.6     0.067   \n",
       "\n",
       "      dióxido de enxofre livre   dióxido de enxofre total  densidade    pH  \\\n",
       "0                          11.0                      34.0    0.99780  3.51   \n",
       "1                          25.0                      67.0    0.99680  3.20   \n",
       "2                          15.0                      54.0    0.99700  3.26   \n",
       "3                          17.0                      60.0    0.99800  3.16   \n",
       "4                          13.0                      40.0    0.99780  3.51   \n",
       "...                         ...                       ...        ...   ...   \n",
       "1354                       28.0                      38.0    0.99651  3.42   \n",
       "1355                       32.0                      44.0    0.99490  3.45   \n",
       "1356                       39.0                      51.0    0.99512  3.52   \n",
       "1357                       32.0                      44.0    0.99547  3.57   \n",
       "1358                       18.0                      42.0    0.99549  3.39   \n",
       "\n",
       "      sulfatos  álcool qualidade  \n",
       "0         0.56     9.4   mediano  \n",
       "1         0.68     9.8   mediano  \n",
       "2         0.65     9.8   mediano  \n",
       "3         0.58     9.8   mediano  \n",
       "4         0.56     9.4   mediano  \n",
       "...        ...     ...       ...  \n",
       "1354      0.82     9.5   mediano  \n",
       "1355      0.58    10.5   mediano  \n",
       "1356      0.76    11.2   mediano  \n",
       "1357      0.71    10.2   mediano  \n",
       "1358      0.66    11.0   mediano  \n",
       "\n",
       "[1359 rows x 12 columns]"
      ]
     },
     "execution_count": 3,
     "metadata": {},
     "output_type": "execute_result"
    }
   ],
   "source": [
    "dados"
   ]
  },
  {
   "cell_type": "code",
   "execution_count": 25,
   "metadata": {},
   "outputs": [
    {
     "data": {
      "text/plain": [
       "qualidade\n",
       "mediano    1112\n",
       "bom         184\n",
       "ruim         63\n",
       "Name: count, dtype: int64"
      ]
     },
     "execution_count": 25,
     "metadata": {},
     "output_type": "execute_result"
    }
   ],
   "source": [
    "dados['qualidade'].value_counts()"
   ]
  },
  {
   "cell_type": "code",
   "execution_count": 4,
   "metadata": {},
   "outputs": [],
   "source": [
    "x = dados.drop(['qualidade'],axis=1)\n",
    "y = dados['qualidade']"
   ]
  },
  {
   "cell_type": "code",
   "execution_count": 5,
   "metadata": {},
   "outputs": [],
   "source": [
    "#agora vamos separar os dados de ensino, validacao e teste final\n",
    "from sklearn.model_selection import train_test_split"
   ]
  },
  {
   "cell_type": "code",
   "execution_count": 6,
   "metadata": {},
   "outputs": [],
   "source": [
    "#aqui separamos o dado que sera usado la no final, para teste com dados desconhecidos\n",
    "x, x_teste,y, y_teste = train_test_split(x,y,test_size=0.15,stratify=y,random_state=0)\n",
    "\n",
    "#aqui pegamos daods para treinar e validar a machine learning (sem usar o size, fica com 25%)\n",
    "x_treino,x_validacao,y_treino,y_validacao = train_test_split(x,y,stratify=y,random_state=0)"
   ]
  },
  {
   "cell_type": "code",
   "execution_count": 7,
   "metadata": {},
   "outputs": [],
   "source": [
    "#aqui importamos a arvore de logica\n",
    "\n",
    "from sklearn.ensemble import RandomForestClassifier"
   ]
  },
  {
   "cell_type": "code",
   "execution_count": 9,
   "metadata": {},
   "outputs": [
    {
     "name": "stdout",
     "output_type": "stream",
     "text": [
      "acuracia de teste:0.8333333333333334\n",
      "acuracia de validacao:0.8339100346020761\n"
     ]
    }
   ],
   "source": [
    "modeloArvore = RandomForestClassifier(random_state=0)\n",
    "modeloArvore.fit(x_treino,y_treino)\n",
    "#até aqui ensinamos com base na fatia de treino que separamos\n",
    "\n",
    "y_predicao = modeloArvore.predict(x_validacao) #aqui, criamos uma predicao (adivinhamos o valor de y, usando o x)\n",
    "\n",
    "print(f'acuracia de teste:{modeloArvore.score(x_teste,y_teste)}')\n",
    "print(f'acuracia de validacao:{modeloArvore.score(x_validacao,y_validacao)}')\n"
   ]
  },
  {
   "cell_type": "code",
   "execution_count": 10,
   "metadata": {},
   "outputs": [
    {
     "name": "stdout",
     "output_type": "stream",
     "text": [
      "acuracia de teste:0.8382352941176471\n",
      "acuracia de validacao:0.8442906574394463\n"
     ]
    }
   ],
   "source": [
    "modeloArvore = RandomForestClassifier(random_state=0,max_depth=10)\n",
    "modeloArvore.fit(x_treino,y_treino)\n",
    "#até aqui ensinamos com base na fatia de treino que separamos\n",
    "\n",
    "y_predicao = modeloArvore.predict(x_validacao) #aqui, criamos uma predicao (adivinhamos o valor de y, usando o x)\n",
    "\n",
    "print(f'acuracia de teste:{modeloArvore.score(x_teste,y_teste)}')\n",
    "print(f'acuracia de validacao:{modeloArvore.score(x_validacao,y_validacao)}')\n"
   ]
  },
  {
   "cell_type": "code",
   "execution_count": 12,
   "metadata": {},
   "outputs": [],
   "source": [
    "#agora vamos comecar a avaliar melhor, com matriz de confusao\n",
    "from sklearn.metrics import ConfusionMatrixDisplay,confusion_matrix"
   ]
  },
  {
   "cell_type": "code",
   "execution_count": 14,
   "metadata": {},
   "outputs": [],
   "source": [
    "matrixDeConfusao = confusion_matrix(y_validacao,y_predicao)\n"
   ]
  },
  {
   "cell_type": "code",
   "execution_count": 17,
   "metadata": {},
   "outputs": [
    {
     "data": {
      "text/plain": [
       "<sklearn.metrics._plot.confusion_matrix.ConfusionMatrixDisplay at 0x10eef1450>"
      ]
     },
     "execution_count": 17,
     "metadata": {},
     "output_type": "execute_result"
    },
    {
     "data": {
      "image/png": "[encoded data removed]",
      "text/plain": [
       "<Figure size 640x480 with 2 Axes>"
      ]
     },
     "metadata": {},
     "output_type": "display_data"
    }
   ],
   "source": [
    "#agora vamos visualizar a amtrix de confusao\n",
    "\n",
    "visualizacao = ConfusionMatrixDisplay(confusion_matrix=matrixDeConfusao)\n",
    "visualizacao.plot()"
   ]
  },
  {
   "cell_type": "code",
   "execution_count": 19,
   "metadata": {},
   "outputs": [
    {
     "data": {
      "text/plain": [
       "<sklearn.metrics._plot.confusion_matrix.ConfusionMatrixDisplay at 0x1106a7c50>"
      ]
     },
     "execution_count": 19,
     "metadata": {},
     "output_type": "execute_result"
    },
    {
     "data": {
      "image/png": "[encoded data removed]",
      "text/plain": [
       "<Figure size 640x480 with 2 Axes>"
      ]
     },
     "metadata": {},
     "output_type": "display_data"
    }
   ],
   "source": [
    "visualizacao = ConfusionMatrixDisplay(confusion_matrix=matrixDeConfusao,display_labels=modeloArvore.classes_,)\n",
    "visualizacao.plot()"
   ]
  },
  {
   "cell_type": "code",
   "execution_count": 22,
   "metadata": {},
   "outputs": [
    {
     "data": {
      "text/plain": [
       "<sklearn.metrics._plot.confusion_matrix.ConfusionMatrixDisplay at 0x111c82ad0>"
      ]
     },
     "execution_count": 22,
     "metadata": {},
     "output_type": "execute_result"
    },
    {
     "data": {
      "image/png": "[encoded data removed]",
      "text/plain": [
       "<Figure size 640x480 with 2 Axes>"
      ]
     },
     "metadata": {},
     "output_type": "display_data"
    }
   ],
   "source": [
    "ConfusionMatrixDisplay.from_predictions(y_validacao,y_predicao,normalize='true',cmap='Blues')"
   ]
  },
  {
   "cell_type": "code",
   "execution_count": 23,
   "metadata": {},
   "outputs": [],
   "source": [
    "#agora vamos pegar um report\n",
    "from sklearn.metrics import classification_report"
   ]
  },
  {
   "cell_type": "code",
   "execution_count": 26,
   "metadata": {},
   "outputs": [
    {
     "name": "stdout",
     "output_type": "stream",
     "text": [
      "o resultado da validacao foi este\n",
      "               precision    recall  f1-score   support\n",
      "\n",
      "         bom       0.67      0.41      0.51        39\n",
      "     mediano       0.86      0.97      0.91       236\n",
      "        ruim       0.00      0.00      0.00        14\n",
      "\n",
      "    accuracy                           0.84       289\n",
      "   macro avg       0.51      0.46      0.47       289\n",
      "weighted avg       0.79      0.84      0.81       289\n",
      "\n"
     ]
    },
    {
     "name": "stderr",
     "output_type": "stream",
     "text": [
      "/Users/gabrielnetto/Documents/Machine_learning/solo1/venv/lib/python3.13/site-packages/sklearn/metrics/_classification.py:1531: UndefinedMetricWarning: Precision is ill-defined and being set to 0.0 in labels with no predicted samples. Use `zero_division` parameter to control this behavior.\n",
      "  _warn_prf(average, modifier, f\"{metric.capitalize()} is\", len(result))\n",
      "/Users/gabrielnetto/Documents/Machine_learning/solo1/venv/lib/python3.13/site-packages/sklearn/metrics/_classification.py:1531: UndefinedMetricWarning: Precision is ill-defined and being set to 0.0 in labels with no predicted samples. Use `zero_division` parameter to control this behavior.\n",
      "  _warn_prf(average, modifier, f\"{metric.capitalize()} is\", len(result))\n",
      "/Users/gabrielnetto/Documents/Machine_learning/solo1/venv/lib/python3.13/site-packages/sklearn/metrics/_classification.py:1531: UndefinedMetricWarning: Precision is ill-defined and being set to 0.0 in labels with no predicted samples. Use `zero_division` parameter to control this behavior.\n",
      "  _warn_prf(average, modifier, f\"{metric.capitalize()} is\", len(result))\n"
     ]
    }
   ],
   "source": [
    "report = classification_report(y_validacao,y_predicao)\n",
    "print('o resultado da validacao foi este\\n',report);"
   ]
  },
  {
   "cell_type": "code",
   "execution_count": 27,
   "metadata": {},
   "outputs": [],
   "source": [
    "from imblearn.over_sampling import SMOTE"
   ]
  },
  {
   "cell_type": "code",
   "execution_count": 31,
   "metadata": {},
   "outputs": [
    {
     "data": {
      "text/plain": [
       "qualidade\n",
       "mediano    167\n",
       "ruim       167\n",
       "bom        167\n",
       "Name: count, dtype: int64"
      ]
     },
     "execution_count": 31,
     "metadata": {},
     "output_type": "execute_result"
    }
   ],
   "source": [
    "#entendendo o padrao e criando dados novos e sintéticos\n",
    "oversample = SMOTE(random_state=0)\n",
    "x_balanceado,y_balanceado = oversample.fit_resample(x_teste,y_teste)\n",
    "y_balanceado.value_counts()"
   ]
  },
  {
   "cell_type": "code",
   "execution_count": 32,
   "metadata": {},
   "outputs": [],
   "source": [
    "#agora criamos um modelo novo a partir destes dados\n",
    "\n",
    "modeloNovo = RandomForestClassifier(random_state=0,max_depth=10)\n",
    "\n",
    "modeloNovo.fit(x_balanceado,y_balanceado)\n",
    "yNovo_pred = modeloNovo.predict(x_validacao)"
   ]
  },
  {
   "cell_type": "code",
   "execution_count": 33,
   "metadata": {},
   "outputs": [
    {
     "name": "stdout",
     "output_type": "stream",
     "text": [
      "              precision    recall  f1-score   support\n",
      "\n",
      "         bom       0.40      0.59      0.48        39\n",
      "     mediano       0.88      0.81      0.84       236\n",
      "        ruim       0.13      0.14      0.14        14\n",
      "\n",
      "    accuracy                           0.74       289\n",
      "   macro avg       0.47      0.51      0.49       289\n",
      "weighted avg       0.78      0.74      0.76       289\n",
      "\n"
     ]
    }
   ],
   "source": [
    "#agora vamos pegar as metricas\n",
    "print(classification_report(y_validacao,yNovo_pred))"
   ]
  },
  {
   "cell_type": "code",
   "execution_count": 37,
   "metadata": {},
   "outputs": [
    {
     "data": {
      "text/plain": [
       "<sklearn.metrics._plot.confusion_matrix.ConfusionMatrixDisplay at 0x1107f34d0>"
      ]
     },
     "execution_count": 37,
     "metadata": {},
     "output_type": "execute_result"
    },
    {
     "data": {
      "image/png": "[encoded data removed]",
      "text/plain": [
       "<Figure size 640x480 with 2 Axes>"
      ]
     },
     "metadata": {},
     "output_type": "display_data"
    }
   ],
   "source": [
    "ConfusionMatrixDisplay.from_predictions(y_validacao,yNovo_pred,normalize='true',cmap='Blues')"
   ]
  },
  {
   "cell_type": "code",
   "execution_count": 38,
   "metadata": {},
   "outputs": [],
   "source": [
    "from imblearn.pipeline import Pipeline as Pipgrafico"
   ]
  },
  {
   "cell_type": "code",
   "execution_count": 40,
   "metadata": {},
   "outputs": [],
   "source": [
    "modeloPip = RandomForestClassifier(max_depth=10)\n",
    "pipeline2 = Pipgrafico([('oversample',SMOTE()),('modelo',modeloPip)])"
   ]
  },
  {
   "cell_type": "code",
   "execution_count": 41,
   "metadata": {},
   "outputs": [],
   "source": [
    "from sklearn.model_selection import cross_validate,StratifiedKFold"
   ]
  },
  {
   "cell_type": "code",
   "execution_count": 42,
   "metadata": {},
   "outputs": [
    {
     "data": {
      "text/plain": [
       "array([0.74025974, 0.74025974, 0.72727273, 0.76623377, 0.75757576])"
      ]
     },
     "execution_count": 42,
     "metadata": {},
     "output_type": "execute_result"
    }
   ],
   "source": [
    "#aqui colocamos quantas sub divisoes de teste criaremos (usando N_spits)\n",
    "skf = StratifiedKFold(n_splits=5,shuffle=True,random_state=0)\n",
    "resultado = cross_validate(pipeline2,x,y,cv=skf,scoring='recall_weighted')\n",
    "resultado['test_score']"
   ]
  },
  {
   "cell_type": "code",
   "execution_count": 48,
   "metadata": {},
   "outputs": [
    {
     "name": "stdout",
     "output_type": "stream",
     "text": [
      "o desvio padrao final ficou assim: [0.7186147186147186 -0.774025974025974]\n"
     ]
    }
   ],
   "source": [
    "mediaFinal = resultado['test_score'].mean()\n",
    "desvioPadrao = resultado['test_score'].std()\n",
    "\n",
    "print(f'o desvio padrao final ficou assim: [{mediaFinal -2*desvioPadrao} -{mediaFinal +2*desvioPadrao}]')"
   ]
  },
  {
   "cell_type": "code",
   "execution_count": 49,
   "metadata": {},
   "outputs": [],
   "source": [
    "#até aqui fizemos apenas com os dados de ensino e validacao\n"
   ]
  },
  {
   "cell_type": "code",
   "execution_count": 50,
   "metadata": {},
   "outputs": [
    {
     "name": "stdout",
     "output_type": "stream",
     "text": [
      "              precision    recall  f1-score   support\n",
      "\n",
      "         bom       0.49      0.61      0.54        28\n",
      "     mediano       0.90      0.83      0.86       167\n",
      "        ruim       0.31      0.56      0.40         9\n",
      "\n",
      "    accuracy                           0.78       204\n",
      "   macro avg       0.57      0.66      0.60       204\n",
      "weighted avg       0.82      0.78      0.80       204\n",
      "\n"
     ]
    },
    {
     "data": {
      "text/plain": [
       "<sklearn.metrics._plot.confusion_matrix.ConfusionMatrixDisplay at 0x11017a490>"
      ]
     },
     "execution_count": 50,
     "metadata": {},
     "output_type": "execute_result"
    },
    {
     "data": {
      "image/png": "[encoded data removed]",
      "text/plain": [
       "<Figure size 640x480 with 2 Axes>"
      ]
     },
     "metadata": {},
     "output_type": "display_data"
    }
   ],
   "source": [
    "oversampleFinal = SMOTE(random_state=0)\n",
    "x_balanceadonovo2,y_balanceadonovo2 = oversample.fit_resample(x,y)\n",
    "modelo = RandomForestClassifier(max_depth=10,random_state=0)\n",
    "modelo.fit(x_balanceadonovo2,y_balanceadonovo2)\n",
    "y_prednovo2 = modelo.predict(x_teste)\n",
    "print(classification_report(y_teste,y_prednovo2))\n",
    "ConfusionMatrixDisplay.from_predictions(y_teste,y_prednovo2,normalize='true',cmap='Blues')\n"
   ]
  }
 ],
 "metadata": {
  "kernelspec": {
   "display_name": "venv",
   "language": "python",
   "name": "python3"
  },
  "language_info": {
   "codemirror_mode": {
    "name": "ipython",
    "version": 3
   },
   "file_extension": ".py",
   "mimetype": "text/x-python",
   "name": "python",
   "nbconvert_exporter": "python",
   "pygments_lexer": "ipython3",
   "version": "3.13.0"
  }
 },
 "nbformat": 4,
 "nbformat_minor": 2
}
